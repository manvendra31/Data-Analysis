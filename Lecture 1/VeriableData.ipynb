{
 "cells": [
  {
   "cell_type": "markdown",
   "id": "2305de73",
   "metadata": {},
   "source": [
    "# Store data  in Veriable"
   ]
  },
  {
   "cell_type": "code",
   "execution_count": null,
   "id": "d77df5ba",
   "metadata": {},
   "outputs": [],
   "source": []
  }
 ],
 "metadata": {
  "language_info": {
   "name": "python"
  }
 },
 "nbformat": 4,
 "nbformat_minor": 5
}
