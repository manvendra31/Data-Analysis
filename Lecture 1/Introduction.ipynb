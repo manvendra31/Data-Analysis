{
 "cells": [
  {
   "cell_type": "markdown",
   "id": "0d49eb85",
   "metadata": {},
   "source": [
    "# Introduction to load the data"
   ]
  },
  {
   "cell_type": "code",
   "execution_count": null,
   "id": "997421e3",
   "metadata": {},
   "outputs": [],
   "source": [
    "10+3"
   ]
  },
  {
   "cell_type": "code",
   "execution_count": null,
   "id": "38cec4dc",
   "metadata": {},
   "outputs": [],
   "source": [
    "# Solving multi-step problems using veriable\n",
    "total_earning=500*1.25\n",
    "One_artical_cost = 1.25/1.20\n",
    "Actual_cost=One_artical_cost*500\n",
    "profit=total_earning-Actual_cost\n",
    "print(profit)\n"
   ]
  },
  {
   "cell_type": "code",
   "execution_count": null,
   "id": "7e1ed9ca",
   "metadata": {},
   "outputs": [],
   "source": [
    "# Bollean data type\n",
    "a=10\n",
    "b=45\n",
    "c=238\n",
    "\n",
    "# Equality Chaeck of the number\n",
    "\n",
    "#a==10   # Give the true output\n",
    "\n",
    "#a==23   # Give the output False\n",
    "\n",
    "a!=b       # Give the output is true because a is not equal to b\n",
    "\n",
    "b>c>a      # False"
   ]
  }
 ],
 "metadata": {
  "kernelspec": {
   "display_name": "Python 3",
   "language": "python",
   "name": "python3"
  },
  "language_info": {
   "codemirror_mode": {
    "name": "ipython",
    "version": 3
   },
   "file_extension": ".py",
   "mimetype": "text/x-python",
   "name": "python",
   "nbconvert_exporter": "python",
   "pygments_lexer": "ipython3",
   "version": "3.12.5"
  }
 },
 "nbformat": 4,
 "nbformat_minor": 5
}
